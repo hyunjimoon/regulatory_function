{
 "cells": [
  {
   "cell_type": "markdown",
   "metadata": {
    "pycharm": {
     "name": "#%% md\n"
    }
   },
   "source": [
    "# Process Fedscope data"
   ]
  },
  {
   "cell_type": "code",
   "execution_count": 3,
   "metadata": {
    "pycharm": {
     "name": "#%%\n"
    }
   },
   "outputs": [],
   "source": [
    "import pickle \n",
    "\n",
    "import pandas as pd\n",
    "import matplotlib.pyplot as plt\n",
    "import numpy as np\n",
    "from matplotlib import cm\n",
    "import os\n",
    "import statsmodels.formula.api as sm\n",
    "plt.rcParams.update({'font.size': 16})\n"
   ]
  },
  {
   "cell_type": "markdown",
   "metadata": {
    "pycharm": {
     "name": "#%% md\n"
    }
   },
   "source": [
    "Load the main data frame "
   ]
  },
  {
   "cell_type": "code",
   "execution_count": 6,
   "metadata": {
    "pycharm": {
     "name": "#%%\n"
    }
   },
   "outputs": [],
   "source": [
    "dfMain = pd.read_csv(\"../data/Sep18/FACTDATA_SEP2018.TXT\",\n",
    "                  header=0,\n",
    "                  low_memory=False)\n",
    "# dfMain = pd.read_csv(\"/Users/vcy/Dropbox/1 Work/Data bank/Fedscope/2018 Sept/FACTDATA_SEP2018.TXT\",\n",
    "#                   header=0,\n",
    "#                   low_memory=False)"
   ]
  },
  {
   "cell_type": "code",
   "execution_count": 7,
   "metadata": {
    "pycharm": {
     "name": "#%%\n"
    }
   },
   "outputs": [
    {
     "data": {
      "text/html": [
       "<div>\n",
       "<style scoped>\n",
       "    .dataframe tbody tr th:only-of-type {\n",
       "        vertical-align: middle;\n",
       "    }\n",
       "\n",
       "    .dataframe tbody tr th {\n",
       "        vertical-align: top;\n",
       "    }\n",
       "\n",
       "    .dataframe thead th {\n",
       "        text-align: right;\n",
       "    }\n",
       "</style>\n",
       "<table border=\"1\" class=\"dataframe\">\n",
       "  <thead>\n",
       "    <tr style=\"text-align: right;\">\n",
       "      <th></th>\n",
       "      <th>AGYSUB</th>\n",
       "      <th>LOC</th>\n",
       "      <th>AGELVL</th>\n",
       "      <th>EDLVL</th>\n",
       "      <th>GSEGRD</th>\n",
       "      <th>LOSLVL</th>\n",
       "      <th>OCC</th>\n",
       "      <th>PATCO</th>\n",
       "      <th>PP</th>\n",
       "      <th>PPGRD</th>\n",
       "      <th>SALLVL</th>\n",
       "      <th>STEMOCC</th>\n",
       "      <th>SUPERVIS</th>\n",
       "      <th>TOA</th>\n",
       "      <th>WORKSCH</th>\n",
       "      <th>WORKSTAT</th>\n",
       "      <th>DATECODE</th>\n",
       "      <th>EMPLOYMENT</th>\n",
       "      <th>SALARY</th>\n",
       "      <th>LOS</th>\n",
       "    </tr>\n",
       "  </thead>\n",
       "  <tbody>\n",
       "    <tr>\n",
       "      <th>0</th>\n",
       "      <td>AA00</td>\n",
       "      <td>11</td>\n",
       "      <td>E</td>\n",
       "      <td>13</td>\n",
       "      <td>NaN</td>\n",
       "      <td>F</td>\n",
       "      <td>0340</td>\n",
       "      <td>2</td>\n",
       "      <td>ES</td>\n",
       "      <td>ES-**</td>\n",
       "      <td>Q</td>\n",
       "      <td>XXXX</td>\n",
       "      <td>2</td>\n",
       "      <td>50</td>\n",
       "      <td>F</td>\n",
       "      <td>1</td>\n",
       "      <td>201809</td>\n",
       "      <td>1</td>\n",
       "      <td>174500.0</td>\n",
       "      <td>15.3</td>\n",
       "    </tr>\n",
       "    <tr>\n",
       "      <th>1</th>\n",
       "      <td>AA00</td>\n",
       "      <td>11</td>\n",
       "      <td>H</td>\n",
       "      <td>15</td>\n",
       "      <td>NaN</td>\n",
       "      <td>H</td>\n",
       "      <td>0905</td>\n",
       "      <td>1</td>\n",
       "      <td>ES</td>\n",
       "      <td>ES-**</td>\n",
       "      <td>Q</td>\n",
       "      <td>XXXX</td>\n",
       "      <td>2</td>\n",
       "      <td>50</td>\n",
       "      <td>F</td>\n",
       "      <td>1</td>\n",
       "      <td>201809</td>\n",
       "      <td>1</td>\n",
       "      <td>174500.0</td>\n",
       "      <td>25.7</td>\n",
       "    </tr>\n",
       "    <tr>\n",
       "      <th>2</th>\n",
       "      <td>AA00</td>\n",
       "      <td>11</td>\n",
       "      <td>E</td>\n",
       "      <td>15</td>\n",
       "      <td>15</td>\n",
       "      <td>D</td>\n",
       "      <td>0905</td>\n",
       "      <td>1</td>\n",
       "      <td>99</td>\n",
       "      <td>GS-15</td>\n",
       "      <td>P</td>\n",
       "      <td>XXXX</td>\n",
       "      <td>2</td>\n",
       "      <td>30</td>\n",
       "      <td>F</td>\n",
       "      <td>1</td>\n",
       "      <td>201809</td>\n",
       "      <td>1</td>\n",
       "      <td>161746.0</td>\n",
       "      <td>9.0</td>\n",
       "    </tr>\n",
       "    <tr>\n",
       "      <th>3</th>\n",
       "      <td>AA00</td>\n",
       "      <td>11</td>\n",
       "      <td>E</td>\n",
       "      <td>15</td>\n",
       "      <td>13</td>\n",
       "      <td>D</td>\n",
       "      <td>0905</td>\n",
       "      <td>1</td>\n",
       "      <td>99</td>\n",
       "      <td>GS-13</td>\n",
       "      <td>J</td>\n",
       "      <td>XXXX</td>\n",
       "      <td>8</td>\n",
       "      <td>30</td>\n",
       "      <td>F</td>\n",
       "      <td>1</td>\n",
       "      <td>201809</td>\n",
       "      <td>1</td>\n",
       "      <td>100203.0</td>\n",
       "      <td>9.9</td>\n",
       "    </tr>\n",
       "    <tr>\n",
       "      <th>4</th>\n",
       "      <td>AA00</td>\n",
       "      <td>11</td>\n",
       "      <td>G</td>\n",
       "      <td>15</td>\n",
       "      <td>NaN</td>\n",
       "      <td>D</td>\n",
       "      <td>0301</td>\n",
       "      <td>2</td>\n",
       "      <td>ES</td>\n",
       "      <td>ES-**</td>\n",
       "      <td>Q</td>\n",
       "      <td>XXXX</td>\n",
       "      <td>2</td>\n",
       "      <td>50</td>\n",
       "      <td>F</td>\n",
       "      <td>1</td>\n",
       "      <td>201809</td>\n",
       "      <td>1</td>\n",
       "      <td>174500.0</td>\n",
       "      <td>8.9</td>\n",
       "    </tr>\n",
       "    <tr>\n",
       "      <th>...</th>\n",
       "      <td>...</td>\n",
       "      <td>...</td>\n",
       "      <td>...</td>\n",
       "      <td>...</td>\n",
       "      <td>...</td>\n",
       "      <td>...</td>\n",
       "      <td>...</td>\n",
       "      <td>...</td>\n",
       "      <td>...</td>\n",
       "      <td>...</td>\n",
       "      <td>...</td>\n",
       "      <td>...</td>\n",
       "      <td>...</td>\n",
       "      <td>...</td>\n",
       "      <td>...</td>\n",
       "      <td>...</td>\n",
       "      <td>...</td>\n",
       "      <td>...</td>\n",
       "      <td>...</td>\n",
       "      <td>...</td>\n",
       "    </tr>\n",
       "    <tr>\n",
       "      <th>2100797</th>\n",
       "      <td>ZU00</td>\n",
       "      <td>11</td>\n",
       "      <td>E</td>\n",
       "      <td>17</td>\n",
       "      <td>NaN</td>\n",
       "      <td>D</td>\n",
       "      <td>0301</td>\n",
       "      <td>2</td>\n",
       "      <td>99</td>\n",
       "      <td>AD-00</td>\n",
       "      <td>J</td>\n",
       "      <td>XXXX</td>\n",
       "      <td>8</td>\n",
       "      <td>38</td>\n",
       "      <td>F</td>\n",
       "      <td>1</td>\n",
       "      <td>201809</td>\n",
       "      <td>1</td>\n",
       "      <td>100576.0</td>\n",
       "      <td>5.3</td>\n",
       "    </tr>\n",
       "    <tr>\n",
       "      <th>2100798</th>\n",
       "      <td>ZU00</td>\n",
       "      <td>11</td>\n",
       "      <td>J</td>\n",
       "      <td>13</td>\n",
       "      <td>NaN</td>\n",
       "      <td>D</td>\n",
       "      <td>0301</td>\n",
       "      <td>2</td>\n",
       "      <td>99</td>\n",
       "      <td>AD-00</td>\n",
       "      <td>K</td>\n",
       "      <td>XXXX</td>\n",
       "      <td>2</td>\n",
       "      <td>38</td>\n",
       "      <td>F</td>\n",
       "      <td>1</td>\n",
       "      <td>201809</td>\n",
       "      <td>1</td>\n",
       "      <td>116365.0</td>\n",
       "      <td>5.5</td>\n",
       "    </tr>\n",
       "    <tr>\n",
       "      <th>2100799</th>\n",
       "      <td>ZU00</td>\n",
       "      <td>11</td>\n",
       "      <td>H</td>\n",
       "      <td>04</td>\n",
       "      <td>NaN</td>\n",
       "      <td>B</td>\n",
       "      <td>0510</td>\n",
       "      <td>1</td>\n",
       "      <td>99</td>\n",
       "      <td>AD-00</td>\n",
       "      <td>F</td>\n",
       "      <td>XXXX</td>\n",
       "      <td>8</td>\n",
       "      <td>38</td>\n",
       "      <td>F</td>\n",
       "      <td>1</td>\n",
       "      <td>201809</td>\n",
       "      <td>1</td>\n",
       "      <td>62796.0</td>\n",
       "      <td>2.5</td>\n",
       "    </tr>\n",
       "    <tr>\n",
       "      <th>2100800</th>\n",
       "      <td>ZU00</td>\n",
       "      <td>11</td>\n",
       "      <td>B</td>\n",
       "      <td>13</td>\n",
       "      <td>NaN</td>\n",
       "      <td>A</td>\n",
       "      <td>0301</td>\n",
       "      <td>2</td>\n",
       "      <td>99</td>\n",
       "      <td>AD-00</td>\n",
       "      <td>E</td>\n",
       "      <td>XXXX</td>\n",
       "      <td>8</td>\n",
       "      <td>38</td>\n",
       "      <td>F</td>\n",
       "      <td>1</td>\n",
       "      <td>201809</td>\n",
       "      <td>1</td>\n",
       "      <td>50000.0</td>\n",
       "      <td>0.0</td>\n",
       "    </tr>\n",
       "    <tr>\n",
       "      <th>2100801</th>\n",
       "      <td>ZU00</td>\n",
       "      <td>11</td>\n",
       "      <td>E</td>\n",
       "      <td>17</td>\n",
       "      <td>NaN</td>\n",
       "      <td>A</td>\n",
       "      <td>0301</td>\n",
       "      <td>2</td>\n",
       "      <td>99</td>\n",
       "      <td>AD-00</td>\n",
       "      <td>F</td>\n",
       "      <td>XXXX</td>\n",
       "      <td>8</td>\n",
       "      <td>38</td>\n",
       "      <td>F</td>\n",
       "      <td>1</td>\n",
       "      <td>201809</td>\n",
       "      <td>1</td>\n",
       "      <td>63000.0</td>\n",
       "      <td>0.0</td>\n",
       "    </tr>\n",
       "  </tbody>\n",
       "</table>\n",
       "<p>2100802 rows × 20 columns</p>\n",
       "</div>"
      ],
      "text/plain": [
       "        AGYSUB LOC AGELVL EDLVL GSEGRD LOSLVL   OCC  PATCO  PP  PPGRD SALLVL  \\\n",
       "0         AA00  11      E    13    NaN      F  0340      2  ES  ES-**      Q   \n",
       "1         AA00  11      H    15    NaN      H  0905      1  ES  ES-**      Q   \n",
       "2         AA00  11      E    15     15      D  0905      1  99  GS-15      P   \n",
       "3         AA00  11      E    15     13      D  0905      1  99  GS-13      J   \n",
       "4         AA00  11      G    15    NaN      D  0301      2  ES  ES-**      Q   \n",
       "...        ...  ..    ...   ...    ...    ...   ...    ...  ..    ...    ...   \n",
       "2100797   ZU00  11      E    17    NaN      D  0301      2  99  AD-00      J   \n",
       "2100798   ZU00  11      J    13    NaN      D  0301      2  99  AD-00      K   \n",
       "2100799   ZU00  11      H    04    NaN      B  0510      1  99  AD-00      F   \n",
       "2100800   ZU00  11      B    13    NaN      A  0301      2  99  AD-00      E   \n",
       "2100801   ZU00  11      E    17    NaN      A  0301      2  99  AD-00      F   \n",
       "\n",
       "        STEMOCC SUPERVIS TOA WORKSCH  WORKSTAT  DATECODE  EMPLOYMENT  \\\n",
       "0          XXXX        2  50       F         1    201809           1   \n",
       "1          XXXX        2  50       F         1    201809           1   \n",
       "2          XXXX        2  30       F         1    201809           1   \n",
       "3          XXXX        8  30       F         1    201809           1   \n",
       "4          XXXX        2  50       F         1    201809           1   \n",
       "...         ...      ...  ..     ...       ...       ...         ...   \n",
       "2100797    XXXX        8  38       F         1    201809           1   \n",
       "2100798    XXXX        2  38       F         1    201809           1   \n",
       "2100799    XXXX        8  38       F         1    201809           1   \n",
       "2100800    XXXX        8  38       F         1    201809           1   \n",
       "2100801    XXXX        8  38       F         1    201809           1   \n",
       "\n",
       "           SALARY   LOS  \n",
       "0        174500.0  15.3  \n",
       "1        174500.0  25.7  \n",
       "2        161746.0   9.0  \n",
       "3        100203.0   9.9  \n",
       "4        174500.0   8.9  \n",
       "...           ...   ...  \n",
       "2100797  100576.0   5.3  \n",
       "2100798  116365.0   5.5  \n",
       "2100799   62796.0   2.5  \n",
       "2100800   50000.0   0.0  \n",
       "2100801   63000.0   0.0  \n",
       "\n",
       "[2100802 rows x 20 columns]"
      ]
     },
     "execution_count": 7,
     "metadata": {},
     "output_type": "execute_result"
    }
   ],
   "source": [
    "dfMain"
   ]
  },
  {
   "cell_type": "markdown",
   "metadata": {
    "pycharm": {
     "name": "#%% md\n"
    }
   },
   "source": [
    "Agency data frame"
   ]
  },
  {
   "cell_type": "code",
   "execution_count": 4,
   "metadata": {
    "pycharm": {
     "name": "#%%\n"
    }
   },
   "outputs": [],
   "source": [
    "agy = pd.read_csv(\"/Users/vcy/Dropbox/1 Work/Data bank/Fedscope/2018 Sept/DTagy.txt\", \n",
    "                  header=0, \n",
    "                  low_memory=False)"
   ]
  },
  {
   "cell_type": "markdown",
   "metadata": {
    "pycharm": {
     "name": "#%% md\n"
    }
   },
   "source": [
    "Occupations"
   ]
  },
  {
   "cell_type": "code",
   "execution_count": 5,
   "metadata": {
    "pycharm": {
     "name": "#%%\n"
    }
   },
   "outputs": [],
   "source": [
    "occ = pd.read_csv(\"/Users/vcy/Dropbox/1 Work/Data bank/Fedscope/2018 Sept/DTocc.txt\",header=0, low_memory=False)"
   ]
  },
  {
   "cell_type": "code",
   "execution_count": 6,
   "metadata": {
    "pycharm": {
     "name": "#%%\n"
    }
   },
   "outputs": [
    {
     "data": {
      "text/html": [
       "<div>\n",
       "<style scoped>\n",
       "    .dataframe tbody tr th:only-of-type {\n",
       "        vertical-align: middle;\n",
       "    }\n",
       "\n",
       "    .dataframe tbody tr th {\n",
       "        vertical-align: top;\n",
       "    }\n",
       "\n",
       "    .dataframe thead th {\n",
       "        text-align: right;\n",
       "    }\n",
       "</style>\n",
       "<table border=\"1\" class=\"dataframe\">\n",
       "  <thead>\n",
       "    <tr style=\"text-align: right;\">\n",
       "      <th></th>\n",
       "      <th>OCCTYP</th>\n",
       "      <th>OCCTYPT</th>\n",
       "      <th>OCCFAM</th>\n",
       "      <th>OCCFAMT</th>\n",
       "      <th>OCC</th>\n",
       "      <th>OCCT</th>\n",
       "    </tr>\n",
       "  </thead>\n",
       "  <tbody>\n",
       "    <tr>\n",
       "      <td>0</td>\n",
       "      <td>1</td>\n",
       "      <td>White Collar</td>\n",
       "      <td>00</td>\n",
       "      <td>00xx-MISCELLANEOUS OCCUPATIONS</td>\n",
       "      <td>0006</td>\n",
       "      <td>0006-CORRECTIONAL INSTITUTION ADMINISTRATION</td>\n",
       "    </tr>\n",
       "    <tr>\n",
       "      <td>1</td>\n",
       "      <td>1</td>\n",
       "      <td>White Collar</td>\n",
       "      <td>00</td>\n",
       "      <td>00xx-MISCELLANEOUS OCCUPATIONS</td>\n",
       "      <td>0007</td>\n",
       "      <td>0007-CORRECTIONAL OFFICER</td>\n",
       "    </tr>\n",
       "    <tr>\n",
       "      <td>2</td>\n",
       "      <td>1</td>\n",
       "      <td>White Collar</td>\n",
       "      <td>00</td>\n",
       "      <td>00xx-MISCELLANEOUS OCCUPATIONS</td>\n",
       "      <td>0017</td>\n",
       "      <td>0017-EXPLOSIVES SAFETY</td>\n",
       "    </tr>\n",
       "    <tr>\n",
       "      <td>3</td>\n",
       "      <td>1</td>\n",
       "      <td>White Collar</td>\n",
       "      <td>00</td>\n",
       "      <td>00xx-MISCELLANEOUS OCCUPATIONS</td>\n",
       "      <td>0018</td>\n",
       "      <td>0018-SAFETY AND OCCUPATIONAL HEALTH MANAGEMENT</td>\n",
       "    </tr>\n",
       "    <tr>\n",
       "      <td>4</td>\n",
       "      <td>1</td>\n",
       "      <td>White Collar</td>\n",
       "      <td>00</td>\n",
       "      <td>00xx-MISCELLANEOUS OCCUPATIONS</td>\n",
       "      <td>0019</td>\n",
       "      <td>0019-SAFETY TECHNICIAN</td>\n",
       "    </tr>\n",
       "  </tbody>\n",
       "</table>\n",
       "</div>"
      ],
      "text/plain": [
       "   OCCTYP       OCCTYPT OCCFAM                         OCCFAMT   OCC  \\\n",
       "0       1  White Collar     00  00xx-MISCELLANEOUS OCCUPATIONS  0006   \n",
       "1       1  White Collar     00  00xx-MISCELLANEOUS OCCUPATIONS  0007   \n",
       "2       1  White Collar     00  00xx-MISCELLANEOUS OCCUPATIONS  0017   \n",
       "3       1  White Collar     00  00xx-MISCELLANEOUS OCCUPATIONS  0018   \n",
       "4       1  White Collar     00  00xx-MISCELLANEOUS OCCUPATIONS  0019   \n",
       "\n",
       "                                             OCCT  \n",
       "0    0006-CORRECTIONAL INSTITUTION ADMINISTRATION  \n",
       "1                       0007-CORRECTIONAL OFFICER  \n",
       "2                          0017-EXPLOSIVES SAFETY  \n",
       "3  0018-SAFETY AND OCCUPATIONAL HEALTH MANAGEMENT  \n",
       "4                          0019-SAFETY TECHNICIAN  "
      ]
     },
     "execution_count": 6,
     "metadata": {},
     "output_type": "execute_result"
    }
   ],
   "source": [
    "occ.head()"
   ]
  },
  {
   "cell_type": "markdown",
   "metadata": {
    "pycharm": {
     "name": "#%% md\n"
    }
   },
   "source": [
    "## Restructure data"
   ]
  },
  {
   "cell_type": "code",
   "execution_count": 7,
   "metadata": {
    "pycharm": {
     "name": "#%%\n"
    }
   },
   "outputs": [],
   "source": [
    "merged = pd.merge(dfMain, agy[[\"AGYSUB\", \"AGY\"]], on = \"AGYSUB\", how = \"left\")"
   ]
  },
  {
   "cell_type": "code",
   "execution_count": 8,
   "metadata": {
    "pycharm": {
     "name": "#%%\n"
    }
   },
   "outputs": [],
   "source": [
    "total = merged.groupby(\"AGY\")[\"EMPLOYMENT\"].count()"
   ]
  },
  {
   "cell_type": "code",
   "execution_count": 9,
   "metadata": {
    "pycharm": {
     "name": "#%%\n"
    }
   },
   "outputs": [],
   "source": [
    "occBreakdown = merged.groupby([\"AGY\", \"OCC\"])[\"EMPLOYMENT\"].count().reset_index()"
   ]
  },
  {
   "cell_type": "code",
   "execution_count": 10,
   "metadata": {
    "pycharm": {
     "name": "#%%\n"
    }
   },
   "outputs": [
    {
     "data": {
      "text/html": [
       "<div>\n",
       "<style scoped>\n",
       "    .dataframe tbody tr th:only-of-type {\n",
       "        vertical-align: middle;\n",
       "    }\n",
       "\n",
       "    .dataframe tbody tr th {\n",
       "        vertical-align: top;\n",
       "    }\n",
       "\n",
       "    .dataframe thead th {\n",
       "        text-align: right;\n",
       "    }\n",
       "</style>\n",
       "<table border=\"1\" class=\"dataframe\">\n",
       "  <thead>\n",
       "    <tr style=\"text-align: right;\">\n",
       "      <th></th>\n",
       "      <th>AGY</th>\n",
       "      <th>OCC</th>\n",
       "      <th>EMPLOYMENT</th>\n",
       "    </tr>\n",
       "  </thead>\n",
       "  <tbody>\n",
       "    <tr>\n",
       "      <td>0</td>\n",
       "      <td>AA</td>\n",
       "      <td>0301</td>\n",
       "      <td>1</td>\n",
       "    </tr>\n",
       "    <tr>\n",
       "      <td>1</td>\n",
       "      <td>AA</td>\n",
       "      <td>0340</td>\n",
       "      <td>1</td>\n",
       "    </tr>\n",
       "    <tr>\n",
       "      <td>2</td>\n",
       "      <td>AA</td>\n",
       "      <td>0905</td>\n",
       "      <td>8</td>\n",
       "    </tr>\n",
       "    <tr>\n",
       "      <td>3</td>\n",
       "      <td>AA</td>\n",
       "      <td>2210</td>\n",
       "      <td>1</td>\n",
       "    </tr>\n",
       "    <tr>\n",
       "      <td>4</td>\n",
       "      <td>AB</td>\n",
       "      <td>0080</td>\n",
       "      <td>1</td>\n",
       "    </tr>\n",
       "  </tbody>\n",
       "</table>\n",
       "</div>"
      ],
      "text/plain": [
       "  AGY   OCC  EMPLOYMENT\n",
       "0  AA  0301           1\n",
       "1  AA  0340           1\n",
       "2  AA  0905           8\n",
       "3  AA  2210           1\n",
       "4  AB  0080           1"
      ]
     },
     "execution_count": 10,
     "metadata": {},
     "output_type": "execute_result"
    }
   ],
   "source": [
    "occBreakdown.head()"
   ]
  },
  {
   "cell_type": "markdown",
   "metadata": {
    "pycharm": {
     "name": "#%% md\n"
    }
   },
   "source": [
    "Save to pickle"
   ]
  },
  {
   "cell_type": "code",
   "execution_count": 16,
   "metadata": {
    "pycharm": {
     "name": "#%%\n"
    }
   },
   "outputs": [],
   "source": [
    "occBreakdown.to_pickle('fedOccFine2018')"
   ]
  },
  {
   "cell_type": "markdown",
   "metadata": {
    "pycharm": {
     "name": "#%% md\n"
    }
   },
   "source": [
    "## Get total"
   ]
  },
  {
   "cell_type": "code",
   "execution_count": 12,
   "metadata": {
    "pycharm": {
     "name": "#%%\n"
    }
   },
   "outputs": [],
   "source": [
    "total = total.reset_index().rename(columns = {\"EMPLOYMENT\": \"total\"})"
   ]
  },
  {
   "cell_type": "code",
   "execution_count": 13,
   "metadata": {
    "pycharm": {
     "name": "#%%\n"
    }
   },
   "outputs": [
    {
     "data": {
      "text/html": [
       "<div>\n",
       "<style scoped>\n",
       "    .dataframe tbody tr th:only-of-type {\n",
       "        vertical-align: middle;\n",
       "    }\n",
       "\n",
       "    .dataframe tbody tr th {\n",
       "        vertical-align: top;\n",
       "    }\n",
       "\n",
       "    .dataframe thead th {\n",
       "        text-align: right;\n",
       "    }\n",
       "</style>\n",
       "<table border=\"1\" class=\"dataframe\">\n",
       "  <thead>\n",
       "    <tr style=\"text-align: right;\">\n",
       "      <th></th>\n",
       "      <th>AGY</th>\n",
       "      <th>total</th>\n",
       "    </tr>\n",
       "  </thead>\n",
       "  <tbody>\n",
       "    <tr>\n",
       "      <td>0</td>\n",
       "      <td>AA</td>\n",
       "      <td>11</td>\n",
       "    </tr>\n",
       "    <tr>\n",
       "      <td>1</td>\n",
       "      <td>AB</td>\n",
       "      <td>79</td>\n",
       "    </tr>\n",
       "    <tr>\n",
       "      <td>2</td>\n",
       "      <td>AF</td>\n",
       "      <td>169381</td>\n",
       "    </tr>\n",
       "    <tr>\n",
       "      <td>3</td>\n",
       "      <td>AG</td>\n",
       "      <td>90382</td>\n",
       "    </tr>\n",
       "    <tr>\n",
       "      <td>4</td>\n",
       "      <td>AH</td>\n",
       "      <td>390</td>\n",
       "    </tr>\n",
       "  </tbody>\n",
       "</table>\n",
       "</div>"
      ],
      "text/plain": [
       "  AGY   total\n",
       "0  AA      11\n",
       "1  AB      79\n",
       "2  AF  169381\n",
       "3  AG   90382\n",
       "4  AH     390"
      ]
     },
     "execution_count": 13,
     "metadata": {},
     "output_type": "execute_result"
    }
   ],
   "source": [
    "total.head()"
   ]
  },
  {
   "cell_type": "markdown",
   "metadata": {
    "pycharm": {
     "name": "#%% md\n"
    }
   },
   "source": [
    "## Get bureaucrat counts"
   ]
  },
  {
   "cell_type": "code",
   "execution_count": 14,
   "metadata": {
    "pycharm": {
     "name": "#%%\n"
    }
   },
   "outputs": [],
   "source": [
    "# a dictionary for various bureaucrats\n",
    "Bdict = {\"secretaries\": [\"0318\"], \n",
    "         \"HR\": [\"0201\", \"0203\", \"0299\"], \n",
    "         \"legal\": list(occ[occ.OCCFAM == \"09\"].OCC.unique()),  # these are defined by family\n",
    "         \"admins\" : list(occ[occ.OCCFAM == \"03\"].OCC.unique()),\n",
    "         \"accounting\" : list(occ[occ.OCCFAM == \"05\"].OCC.unique()),\n",
    "         \"maintenance\" : list(occ[occ.OCCFAM == \"47\"].OCC.unique()), # GENERAL MAINTENANCE AND OPERATIONS \n",
    "        \"facilities_service\" : list(occ[occ.OCCFAM == \"16\"].OCC.unique()), # EQUIPMENT, FACILITIES, AND SERVICES GROUP\n",
    "         \"custodian\": [\"3566\"]\n",
    "        }"
   ]
  },
  {
   "cell_type": "code",
   "execution_count": 15,
   "metadata": {
    "pycharm": {
     "name": "#%%\n"
    }
   },
   "outputs": [],
   "source": [
    "# Function to get varioys bureaucracts in agency\n",
    "def getB(occBreakdown, key, Bdict):\n",
    "    temp = occBreakdown[occBreakdown.OCC.isin(Bdict[key])]\n",
    "    B = temp.groupby(\"AGY\").EMPLOYMENT.sum().reset_index()\n",
    "    B.rename(columns = {\"EMPLOYMENT\": key}, inplace = True)\n",
    "    B = B.set_index(\"AGY\")\n",
    "    return B"
   ]
  },
  {
   "cell_type": "code",
   "execution_count": 16,
   "metadata": {
    "pycharm": {
     "name": "#%%\n"
    }
   },
   "outputs": [],
   "source": [
    "Blist = []\n",
    "for i, key in enumerate(Bdict.keys()):\n",
    "    B = getB(occBreakdown, key, Bdict)\n",
    "    Blist.append(B)"
   ]
  },
  {
   "cell_type": "code",
   "execution_count": 17,
   "metadata": {
    "pycharm": {
     "name": "#%%\n"
    }
   },
   "outputs": [],
   "source": [
    "agyB = pd.concat(Blist, axis = 1, sort=False).fillna(0).reset_index().rename(columns = {\"index\": \"AGY\"})"
   ]
  },
  {
   "cell_type": "code",
   "execution_count": 18,
   "metadata": {
    "pycharm": {
     "name": "#%%\n"
    }
   },
   "outputs": [
    {
     "data": {
      "text/html": [
       "<div>\n",
       "<style scoped>\n",
       "    .dataframe tbody tr th:only-of-type {\n",
       "        vertical-align: middle;\n",
       "    }\n",
       "\n",
       "    .dataframe tbody tr th {\n",
       "        vertical-align: top;\n",
       "    }\n",
       "\n",
       "    .dataframe thead th {\n",
       "        text-align: right;\n",
       "    }\n",
       "</style>\n",
       "<table border=\"1\" class=\"dataframe\">\n",
       "  <thead>\n",
       "    <tr style=\"text-align: right;\">\n",
       "      <th></th>\n",
       "      <th>AGY</th>\n",
       "      <th>secretaries</th>\n",
       "      <th>HR</th>\n",
       "      <th>legal</th>\n",
       "      <th>admins</th>\n",
       "      <th>accounting</th>\n",
       "      <th>maintenance</th>\n",
       "      <th>facilities_service</th>\n",
       "      <th>custodian</th>\n",
       "    </tr>\n",
       "  </thead>\n",
       "  <tbody>\n",
       "    <tr>\n",
       "      <td>0</td>\n",
       "      <td>AF</td>\n",
       "      <td>1975.0</td>\n",
       "      <td>4371.0</td>\n",
       "      <td>1096.0</td>\n",
       "      <td>30406</td>\n",
       "      <td>7644.0</td>\n",
       "      <td>1237.0</td>\n",
       "      <td>2990.0</td>\n",
       "      <td>4.0</td>\n",
       "    </tr>\n",
       "    <tr>\n",
       "      <td>1</td>\n",
       "      <td>AG</td>\n",
       "      <td>400.0</td>\n",
       "      <td>1505.0</td>\n",
       "      <td>386.0</td>\n",
       "      <td>11550</td>\n",
       "      <td>2839.0</td>\n",
       "      <td>334.0</td>\n",
       "      <td>94.0</td>\n",
       "      <td>44.0</td>\n",
       "    </tr>\n",
       "    <tr>\n",
       "      <td>2</td>\n",
       "      <td>AH</td>\n",
       "      <td>1.0</td>\n",
       "      <td>14.0</td>\n",
       "      <td>13.0</td>\n",
       "      <td>196</td>\n",
       "      <td>24.0</td>\n",
       "      <td>0.0</td>\n",
       "      <td>0.0</td>\n",
       "      <td>0.0</td>\n",
       "    </tr>\n",
       "    <tr>\n",
       "      <td>3</td>\n",
       "      <td>AM</td>\n",
       "      <td>11.0</td>\n",
       "      <td>68.0</td>\n",
       "      <td>110.0</td>\n",
       "      <td>1643</td>\n",
       "      <td>355.0</td>\n",
       "      <td>0.0</td>\n",
       "      <td>1.0</td>\n",
       "      <td>0.0</td>\n",
       "    </tr>\n",
       "    <tr>\n",
       "      <td>4</td>\n",
       "      <td>AR</td>\n",
       "      <td>1506.0</td>\n",
       "      <td>9750.0</td>\n",
       "      <td>2590.0</td>\n",
       "      <td>48657</td>\n",
       "      <td>9316.0</td>\n",
       "      <td>2284.0</td>\n",
       "      <td>3505.0</td>\n",
       "      <td>7.0</td>\n",
       "    </tr>\n",
       "  </tbody>\n",
       "</table>\n",
       "</div>"
      ],
      "text/plain": [
       "  AGY  secretaries      HR   legal  admins  accounting  maintenance  \\\n",
       "0  AF       1975.0  4371.0  1096.0   30406      7644.0       1237.0   \n",
       "1  AG        400.0  1505.0   386.0   11550      2839.0        334.0   \n",
       "2  AH          1.0    14.0    13.0     196        24.0          0.0   \n",
       "3  AM         11.0    68.0   110.0    1643       355.0          0.0   \n",
       "4  AR       1506.0  9750.0  2590.0   48657      9316.0       2284.0   \n",
       "\n",
       "   facilities_service  custodian  \n",
       "0              2990.0        4.0  \n",
       "1                94.0       44.0  \n",
       "2                 0.0        0.0  \n",
       "3                 1.0        0.0  \n",
       "4              3505.0        7.0  "
      ]
     },
     "execution_count": 18,
     "metadata": {},
     "output_type": "execute_result"
    }
   ],
   "source": [
    "agyB.head()"
   ]
  },
  {
   "cell_type": "code",
   "execution_count": 19,
   "metadata": {
    "pycharm": {
     "name": "#%%\n"
    }
   },
   "outputs": [],
   "source": [
    "# merge total into the bureaucrat data frame\n",
    "B = pd.merge(total, agyB, on = \"AGY\")"
   ]
  },
  {
   "cell_type": "code",
   "execution_count": 20,
   "metadata": {
    "pycharm": {
     "name": "#%%\n"
    }
   },
   "outputs": [
    {
     "data": {
      "text/html": [
       "<div>\n",
       "<style scoped>\n",
       "    .dataframe tbody tr th:only-of-type {\n",
       "        vertical-align: middle;\n",
       "    }\n",
       "\n",
       "    .dataframe tbody tr th {\n",
       "        vertical-align: top;\n",
       "    }\n",
       "\n",
       "    .dataframe thead th {\n",
       "        text-align: right;\n",
       "    }\n",
       "</style>\n",
       "<table border=\"1\" class=\"dataframe\">\n",
       "  <thead>\n",
       "    <tr style=\"text-align: right;\">\n",
       "      <th></th>\n",
       "      <th>AGY</th>\n",
       "      <th>total</th>\n",
       "      <th>secretaries</th>\n",
       "      <th>HR</th>\n",
       "      <th>legal</th>\n",
       "      <th>admins</th>\n",
       "      <th>accounting</th>\n",
       "      <th>maintenance</th>\n",
       "      <th>facilities_service</th>\n",
       "      <th>custodian</th>\n",
       "    </tr>\n",
       "  </thead>\n",
       "  <tbody>\n",
       "    <tr>\n",
       "      <td>0</td>\n",
       "      <td>AA</td>\n",
       "      <td>11</td>\n",
       "      <td>0.0</td>\n",
       "      <td>0.0</td>\n",
       "      <td>8.0</td>\n",
       "      <td>2</td>\n",
       "      <td>0.0</td>\n",
       "      <td>0.0</td>\n",
       "      <td>0.0</td>\n",
       "      <td>0.0</td>\n",
       "    </tr>\n",
       "    <tr>\n",
       "      <td>1</td>\n",
       "      <td>AB</td>\n",
       "      <td>79</td>\n",
       "      <td>0.0</td>\n",
       "      <td>2.0</td>\n",
       "      <td>1.0</td>\n",
       "      <td>17</td>\n",
       "      <td>7.0</td>\n",
       "      <td>0.0</td>\n",
       "      <td>35.0</td>\n",
       "      <td>0.0</td>\n",
       "    </tr>\n",
       "    <tr>\n",
       "      <td>2</td>\n",
       "      <td>AF</td>\n",
       "      <td>169381</td>\n",
       "      <td>1975.0</td>\n",
       "      <td>4371.0</td>\n",
       "      <td>1096.0</td>\n",
       "      <td>30406</td>\n",
       "      <td>7644.0</td>\n",
       "      <td>1237.0</td>\n",
       "      <td>2990.0</td>\n",
       "      <td>4.0</td>\n",
       "    </tr>\n",
       "    <tr>\n",
       "      <td>3</td>\n",
       "      <td>AG</td>\n",
       "      <td>90382</td>\n",
       "      <td>400.0</td>\n",
       "      <td>1505.0</td>\n",
       "      <td>386.0</td>\n",
       "      <td>11550</td>\n",
       "      <td>2839.0</td>\n",
       "      <td>334.0</td>\n",
       "      <td>94.0</td>\n",
       "      <td>44.0</td>\n",
       "    </tr>\n",
       "    <tr>\n",
       "      <td>4</td>\n",
       "      <td>AH</td>\n",
       "      <td>390</td>\n",
       "      <td>1.0</td>\n",
       "      <td>14.0</td>\n",
       "      <td>13.0</td>\n",
       "      <td>196</td>\n",
       "      <td>24.0</td>\n",
       "      <td>0.0</td>\n",
       "      <td>0.0</td>\n",
       "      <td>0.0</td>\n",
       "    </tr>\n",
       "  </tbody>\n",
       "</table>\n",
       "</div>"
      ],
      "text/plain": [
       "  AGY   total  secretaries      HR   legal  admins  accounting  maintenance  \\\n",
       "0  AA      11          0.0     0.0     8.0       2         0.0          0.0   \n",
       "1  AB      79          0.0     2.0     1.0      17         7.0          0.0   \n",
       "2  AF  169381       1975.0  4371.0  1096.0   30406      7644.0       1237.0   \n",
       "3  AG   90382        400.0  1505.0   386.0   11550      2839.0        334.0   \n",
       "4  AH     390          1.0    14.0    13.0     196        24.0          0.0   \n",
       "\n",
       "   facilities_service  custodian  \n",
       "0                 0.0        0.0  \n",
       "1                35.0        0.0  \n",
       "2              2990.0        4.0  \n",
       "3                94.0       44.0  \n",
       "4                 0.0        0.0  "
      ]
     },
     "execution_count": 20,
     "metadata": {},
     "output_type": "execute_result"
    }
   ],
   "source": [
    "B.head()"
   ]
  },
  {
   "cell_type": "markdown",
   "metadata": {
    "pycharm": {
     "name": "#%% md\n"
    }
   },
   "source": [
    "## Get supervisory status; supertyp; 1, 2 vs 3..7"
   ]
  },
  {
   "cell_type": "code",
   "execution_count": 21,
   "metadata": {
    "pycharm": {
     "name": "#%%\n"
    }
   },
   "outputs": [
    {
     "data": {
      "text/html": [
       "<div>\n",
       "<style scoped>\n",
       "    .dataframe tbody tr th:only-of-type {\n",
       "        vertical-align: middle;\n",
       "    }\n",
       "\n",
       "    .dataframe tbody tr th {\n",
       "        vertical-align: top;\n",
       "    }\n",
       "\n",
       "    .dataframe thead th {\n",
       "        text-align: right;\n",
       "    }\n",
       "</style>\n",
       "<table border=\"1\" class=\"dataframe\">\n",
       "  <thead>\n",
       "    <tr style=\"text-align: right;\">\n",
       "      <th></th>\n",
       "      <th>SUPERTYP</th>\n",
       "      <th>SUPERTYPT</th>\n",
       "      <th>SUPERVIS</th>\n",
       "      <th>SUPERVIST</th>\n",
       "    </tr>\n",
       "  </thead>\n",
       "  <tbody>\n",
       "    <tr>\n",
       "      <td>0</td>\n",
       "      <td>1</td>\n",
       "      <td>Supervisor</td>\n",
       "      <td>2</td>\n",
       "      <td>2-SUPERVISOR OR MANAGER</td>\n",
       "    </tr>\n",
       "    <tr>\n",
       "      <td>1</td>\n",
       "      <td>2</td>\n",
       "      <td>Leader</td>\n",
       "      <td>6</td>\n",
       "      <td>6-LEADER</td>\n",
       "    </tr>\n",
       "    <tr>\n",
       "      <td>2</td>\n",
       "      <td>2</td>\n",
       "      <td>Leader</td>\n",
       "      <td>7</td>\n",
       "      <td>7-TEAM LEADER</td>\n",
       "    </tr>\n",
       "    <tr>\n",
       "      <td>3</td>\n",
       "      <td>3</td>\n",
       "      <td>Non-Supervisor</td>\n",
       "      <td>4</td>\n",
       "      <td>4-SUPERVISOR (CSRA)</td>\n",
       "    </tr>\n",
       "    <tr>\n",
       "      <td>4</td>\n",
       "      <td>3</td>\n",
       "      <td>Non-Supervisor</td>\n",
       "      <td>5</td>\n",
       "      <td>5-MANAGEMENT OFFICIAL (CSRA)</td>\n",
       "    </tr>\n",
       "  </tbody>\n",
       "</table>\n",
       "</div>"
      ],
      "text/plain": [
       "   SUPERTYP       SUPERTYPT SUPERVIS                     SUPERVIST\n",
       "0         1      Supervisor        2       2-SUPERVISOR OR MANAGER\n",
       "1         2          Leader        6                      6-LEADER\n",
       "2         2          Leader        7                 7-TEAM LEADER\n",
       "3         3  Non-Supervisor        4           4-SUPERVISOR (CSRA)\n",
       "4         3  Non-Supervisor        5  5-MANAGEMENT OFFICIAL (CSRA)"
      ]
     },
     "execution_count": 21,
     "metadata": {},
     "output_type": "execute_result"
    }
   ],
   "source": [
    "superv = pd.read_csv(\"/Users/vcy/Dropbox/1 Work/Data bank/Fedscope/2018 Sept/DTsuper.txt\",header=0, low_memory=False)\n",
    "superv.head()"
   ]
  },
  {
   "cell_type": "code",
   "execution_count": null,
   "metadata": {
    "pycharm": {
     "name": "#%%\n"
    }
   },
   "outputs": [],
   "source": []
  },
  {
   "cell_type": "code",
   "execution_count": null,
   "metadata": {
    "pycharm": {
     "name": "#%%\n"
    }
   },
   "outputs": [],
   "source": []
  },
  {
   "cell_type": "code",
   "execution_count": null,
   "metadata": {
    "pycharm": {
     "name": "#%%\n"
    }
   },
   "outputs": [],
   "source": []
  }
 ],
 "metadata": {
  "kernelspec": {
   "display_name": "Python 3 (ipykernel)",
   "language": "python",
   "name": "python3"
  },
  "language_info": {
   "codemirror_mode": {
    "name": "ipython",
    "version": 3
   },
   "file_extension": ".py",
   "mimetype": "text/x-python",
   "name": "python",
   "nbconvert_exporter": "python",
   "pygments_lexer": "ipython3",
   "version": "3.10.6"
  }
 },
 "nbformat": 4,
 "nbformat_minor": 4
}